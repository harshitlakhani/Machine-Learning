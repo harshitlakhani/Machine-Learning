{
  "cells": [
    {
      "cell_type": "markdown",
      "metadata": {
        "id": "W4Brq-YD3Gop"
      },
      "source": [
        "Occlusion Experiment on True and False classifications"
      ]
    },
    {
      "cell_type": "code",
      "execution_count": null,
      "metadata": {
        "colab": {
          "base_uri": "https://localhost:8080/"
        },
        "id": "GYWkoc60AyqG",
        "outputId": "93072851-a5ff-4d02-ce23-a68ffc9ad3ca"
      },
      "outputs": [
        {
          "output_type": "stream",
          "name": "stdout",
          "text": [
            "Drive already mounted at /content/drive; to attempt to forcibly remount, call drive.mount(\"/content/drive\", force_remount=True).\n"
          ]
        }
      ],
      "source": [
        "from google.colab import drive\n",
        "drive.mount('/content/drive')"
      ]
    },
    {
      "cell_type": "code",
      "execution_count": null,
      "metadata": {
        "id": "Qo6Lhq0Y3HBd"
      },
      "outputs": [],
      "source": [
        "import os\n",
        "from random import shuffle\n",
        "import numpy as np\n",
        "import random\n",
        "\n",
        "from tqdm import tqdm\n",
        "import torch\n",
        "import torch.nn as nn\n",
        "from torch.optim import Adam\n",
        "from torchvision.transforms import transforms\n",
        "from sklearn.metrics import confusion_matrix\n",
        "\n",
        "import re\n",
        "from tokenize import Double\n",
        "import cv2\n",
        "import glob\n",
        "import torchvision\n",
        "import torch.nn.functional as F\n",
        "from torch.utils.data import Dataset, DataLoader\n",
        "import matplotlib.pyplot as plt\n",
        "from collections import Counter\n",
        "import pandas as pd\n",
        "import seaborn as sb\n",
        "from random import sample\n",
        "import seaborn as sns\n",
        "from mpl_toolkits.axes_grid1 import ImageGrid\n",
        "from tqdm import tqdm\n",
        "\n",
        "from random import sample"
      ]
    },
    {
      "cell_type": "code",
      "execution_count": null,
      "metadata": {
        "id": "exp0QHfX3aGX"
      },
      "outputs": [],
      "source": [
        "class_map = {\"Triangle\" : 0, \"Square\": 1, \"Pentagon\" : 2, \"Hexagon\"  : 3, \"Heptagon\": 4, \"Octagon\"  : 5, \"Nonagon\"  : 6, \"Circle\"   : 7, \"Star\" : 8}"
      ]
    },
    {
      "cell_type": "code",
      "source": [
        ""
      ],
      "metadata": {
        "id": "G4jQQrFNvGoi"
      },
      "execution_count": null,
      "outputs": []
    },
    {
      "cell_type": "code",
      "execution_count": null,
      "metadata": {
        "id": "L7tlmXnU4p2h"
      },
      "outputs": [],
      "source": [
        "class Unit(nn.Module):\n",
        "    def __init__(self,in_channels,out_channels,kernel_size=3):\n",
        "        super(Unit,self).__init__()\n",
        "        \n",
        "        self.conv = nn.Conv2d(in_channels=in_channels,kernel_size=kernel_size,out_channels=out_channels,stride=1,padding=1)\n",
        "        self.relu = nn.ReLU()\n",
        "\n",
        "    def forward(self,input):\n",
        "        output = self.conv(input)\n",
        "        output = self.relu(output)\n",
        "\n",
        "        return output\n",
        "\n",
        "class SimpleNet(nn.Module):\n",
        "    def __init__(self,num_classes=9):\n",
        "        super(SimpleNet,self).__init__()\n",
        "\n",
        "        # Create layers of the unit with max pooling in between\n",
        "        self.unit1 = Unit(in_channels=3,out_channels=32,kernel_size=3)# n, 32, 200, 200\n",
        "        self.pool1 = nn.MaxPool2d(kernel_size=2) # n, 32, 100, 100\n",
        "\n",
        "        self.unit2 = Unit(in_channels=32, out_channels=64) # n, 64, 100, 100\n",
        "        self.pool2 = nn.MaxPool2d(kernel_size=2) # n, 64, 50, 50\n",
        "\n",
        "        self.unit3 = Unit(in_channels=64, out_channels=128) # n, 128, 50, 50\n",
        "        self.pool3 = nn.MaxPool2d(kernel_size=2) # n, 128, 25, 25\n",
        "\n",
        "        self.unit4 = Unit(in_channels=128, out_channels=128) # n, 128, 25, 25\n",
        "        self.pool4 = nn.MaxPool2d(kernel_size=4) # n, 128, 6, 6\n",
        "\n",
        "        self.net = nn.Sequential(self.unit1,\n",
        "                                 self.pool1,\n",
        "                                 self.unit2,\n",
        "                                 self.pool2,\n",
        "                                 self.unit3,\n",
        "                                 self.pool3,\n",
        "                                 self.unit4,\n",
        "                                 self.pool4)\n",
        "\n",
        "        self.fc1 = nn.Linear(in_features=128 * 6 * 6, out_features=128)\n",
        "        self.relu1 = nn.ReLU()\n",
        "        self.fc2 = nn.Linear(128, 9)\n",
        "\n",
        "\n",
        "    def forward(self, input):\n",
        "        output = self.net(input) # Size : [batch_size, 128, 6, 6]\n",
        "        output = output.view(output.size(0), -1) # Size : [batch_size, 128 * 6 * 6]\n",
        "        output = self.fc2(self.relu1(self.fc1(output)))\n",
        "        return output"
      ]
    },
    {
      "cell_type": "code",
      "execution_count": null,
      "metadata": {
        "colab": {
          "base_uri": "https://localhost:8080/"
        },
        "id": "BvGEmQmM5NAt",
        "outputId": "99a98d84-40d2-487e-c744-16b897f20f49"
      },
      "outputs": [
        {
          "output_type": "execute_result",
          "data": {
            "text/plain": [
              "<All keys matched successfully>"
            ]
          },
          "metadata": {},
          "execution_count": 12
        }
      ],
      "source": [
        "model = SimpleNet()\n",
        "model.load_state_dict(torch.load(\"/content/drive/MyDrive/Logs/rerun/ML003/model_99.model\",  map_location=torch.device('cpu')))"
      ]
    },
    {
      "cell_type": "code",
      "execution_count": null,
      "metadata": {
        "colab": {
          "base_uri": "https://localhost:8080/",
          "height": 298
        },
        "id": "Pcsr-lSH3o04",
        "outputId": "aa0de239-1c59-447b-f940-756f9742ac04"
      },
      "outputs": [
        {
          "output_type": "stream",
          "name": "stderr",
          "text": [
            "  0%|          | 0/400 [00:00<?, ?it/s]/usr/local/lib/python3.7/dist-packages/ipykernel_launcher.py:17: UserWarning: To copy construct from a tensor, it is recommended to use sourceTensor.clone().detach() or sourceTensor.clone().detach().requires_grad_(True), rather than torch.tensor(sourceTensor).\n",
            "  3%|▎         | 11/400 [00:02<01:28,  4.41it/s]\n"
          ]
        },
        {
          "output_type": "error",
          "ename": "KeyboardInterrupt",
          "evalue": "ignored",
          "traceback": [
            "\u001b[0;31m---------------------------------------------------------------------------\u001b[0m",
            "\u001b[0;31mKeyboardInterrupt\u001b[0m                         Traceback (most recent call last)",
            "\u001b[0;32m<ipython-input-174-4eb12f75fdf2>\u001b[0m in \u001b[0;36m<module>\u001b[0;34m()\u001b[0m\n\u001b[1;32m     11\u001b[0m \u001b[0;34m\u001b[0m\u001b[0m\n\u001b[1;32m     12\u001b[0m \u001b[0;34m\u001b[0m\u001b[0m\n\u001b[0;32m---> 13\u001b[0;31m     \u001b[0mimg\u001b[0m \u001b[0;34m=\u001b[0m \u001b[0mcv2\u001b[0m\u001b[0;34m.\u001b[0m\u001b[0mimread\u001b[0m\u001b[0;34m(\u001b[0m\u001b[0mpath\u001b[0m\u001b[0;34m)\u001b[0m\u001b[0;34m\u001b[0m\u001b[0;34m\u001b[0m\u001b[0m\n\u001b[0m\u001b[1;32m     14\u001b[0m     \u001b[0;31m#without_grayscale.append(img)\u001b[0m\u001b[0;34m\u001b[0m\u001b[0;34m\u001b[0m\u001b[0;34m\u001b[0m\u001b[0m\n\u001b[1;32m     15\u001b[0m     \u001b[0mimg\u001b[0m \u001b[0;34m=\u001b[0m \u001b[0mtransformer\u001b[0m\u001b[0;34m(\u001b[0m\u001b[0mimg\u001b[0m\u001b[0;34m)\u001b[0m\u001b[0;34m\u001b[0m\u001b[0;34m\u001b[0m\u001b[0m\n",
            "\u001b[0;31mKeyboardInterrupt\u001b[0m: "
          ]
        }
      ],
      "source": [
        "path = \"/content/drive/MyDrive/TI-Data/Data/train/*\"\n",
        "samples = sample(glob.glob(path), 400)\n",
        "\n",
        "without_grayscale = []\n",
        "imgs = []\n",
        "labels = []\n",
        "\n",
        "for path in tqdm(samples):\n",
        "    word_label = path.split(\"_\")[0].split(\"/\")[-1]\n",
        "    label = class_map[word_label]\n",
        "\n",
        "    \n",
        "    img = cv2.imread(path)\n",
        "    #without_grayscale.append(img)\n",
        "    img = transformer(img)\n",
        "    #img = cv2.cvtColor(img, cv2.COLOR_BGR2RGB)\n",
        "    imgs.append(torch.tensor(img[None,:], dtype=torch.float))\n",
        "    labels.append(label)\n"
      ]
    },
    {
      "cell_type": "code",
      "execution_count": null,
      "metadata": {
        "colab": {
          "base_uri": "https://localhost:8080/",
          "height": 287
        },
        "id": "ajMBJ3x63u0V",
        "outputId": "cd5ee4e3-b92c-487c-e412-213bf3a99247"
      },
      "outputs": [
        {
          "data": {
            "text/plain": [
              "<matplotlib.image.AxesImage at 0x7fd5758c5e50>"
            ]
          },
          "execution_count": 8,
          "metadata": {},
          "output_type": "execute_result"
        },
        {
          "data": {
            "image/png": "[encoded data removed]",
            "text/plain": [
              "<Figure size 432x288 with 1 Axes>"
            ]
          },
          "metadata": {},
          "output_type": "display_data"
        }
      ],
      "source": [
        "plt.imshow(imgs[15][0][0])"
      ]
    },
    {
      "cell_type": "code",
      "execution_count": null,
      "metadata": {
        "id": "gwi2fOLyBPr6"
      },
      "outputs": [],
      "source": [
        "def getLabel(index):\n",
        "    for key, value in class_map.items():\n",
        "        if(value == index):\n",
        "            return key\n",
        "\n",
        "def getIndex(label):\n",
        "  for key, value in class_map.items():\n",
        "      if(key == label):\n",
        "        return value"
      ]
    },
    {
      "cell_type": "code",
      "execution_count": null,
      "metadata": {
        "id": "m3iTIJM1Oe_u"
      },
      "outputs": [],
      "source": [
        "Misclassified_images = []\n",
        "Misclassified_labels = []\n",
        "Misclassified_index = []\n",
        "misclassified_count = 0\n",
        "\n",
        "classified_images = []\n",
        "classified_labels = []\n",
        "classified_index = []\n",
        "classified_count = 0"
      ]
    },
    {
      "cell_type": "code",
      "execution_count": null,
      "metadata": {
        "colab": {
          "base_uri": "https://localhost:8080/"
        },
        "id": "xSsoRav_30-o",
        "outputId": "a3905f26-a7ab-45e7-94f4-14a2c507d0b4"
      },
      "outputs": [
        {
          "name": "stdout",
          "output_type": "stream",
          "text": [
            "0.99972003698349 Hexagon\n",
            "0.9990270137786865 Nonagon\n",
            "0.999998927116394 Hexagon\n",
            "1.0 Square\n",
            "0.9999974966049194 Heptagon\n",
            "0.9998626708984375 Hexagon\n",
            "0.9907124638557434 Nonagon\n",
            "0.9367137551307678 Octagon\n",
            "0.9999998807907104 Circle\n",
            "1.0 Square\n",
            "1.0 Square\n",
            "0.9983552098274231 Heptagon\n",
            "0.9639286994934082 Octagon\n",
            "0.9999996423721313 Triangle\n",
            "0.9918079972267151 Octagon\n",
            "0.9999837875366211 Circle\n",
            "0.9999998807907104 Square\n",
            "1.0 Circle\n",
            "0.9992743134498596 Heptagon\n",
            "0.993986964225769 Nonagon\n",
            "1.0 Star\n",
            "1.0 Circle\n",
            "0.9977959394454956 Nonagon\n",
            "0.9998900890350342 Nonagon\n",
            "0.9917812943458557 Octagon\n",
            "0.9999396800994873 Square\n",
            "1.0 Circle\n",
            "1.0 Triangle\n",
            "0.9919866323471069 Hexagon\n",
            "0.9999854564666748 Triangle\n"
          ]
        }
      ],
      "source": [
        "COUNT = 30\n",
        "for index, (img, label) in enumerate(zip(imgs, labels)):\n",
        "    output = model(img)\n",
        "    softmax_output = nn.functional.softmax(output, dim = 1)\n",
        "    prob_no_occ, pred = torch.max(softmax_output.data, 1)\n",
        "    prob_no_occ = prob_no_occ[0].item()\n",
        "    \n",
        "\n",
        "    if(classified_count < COUNT and label == pred.item()):\n",
        "      print(prob_no_occ, getLabel(label))\n",
        "      classified_images.append(img)\n",
        "      classified_labels.append(getLabel(pred.item())) \n",
        "      classified_index.append(index)\n",
        "      classified_count+=1\n",
        "\n",
        "    if(classified_count >=COUNT):\n",
        "      break"
      ]
    },
    {
      "cell_type": "markdown",
      "metadata": {
        "id": "B9wogXz1_Q2G"
      },
      "source": [
        "Resource:\n",
        "https://colab.research.google.com/github/Niranjankumar-c/DeepLearning-PadhAI/blob/master/DeepLearning_Materials/6_VisualizationCNN_Pytorch/CNNVisualisation.ipynb#scrollTo=Lh1n930Us4bI"
      ]
    },
    {
      "cell_type": "code",
      "execution_count": null,
      "metadata": {
        "id": "IJ9hXgi3308H"
      },
      "outputs": [],
      "source": [
        "#custom function to conduct occlusion experiments\n",
        "def occlusion(model, image, label, occ_size = 100, occ_stride = 5, occ_pixel = 1):\n",
        "\n",
        "    #get the width and height of the image\n",
        "    width, height = image.shape[-2], image.shape[-1]\n",
        "  \n",
        "    #setting the output image width and height\n",
        "    output_height = int(np.ceil((height-occ_size)/occ_stride))\n",
        "    output_width = int(np.ceil((width-occ_size)/occ_stride))\n",
        "  \n",
        "    #create a white image of sizes we defined\n",
        "    heatmap = torch.zeros((output_height, output_width))\n",
        "    \n",
        "    #iterate all the pixels in each column\n",
        "    for h in range(0, height):\n",
        "        for w in range(0, width):\n",
        "            \n",
        "            h_start = h*occ_stride\n",
        "            w_start = w*occ_stride\n",
        "            h_end = min(height, h_start + occ_size)\n",
        "            w_end = min(width, w_start + occ_size)\n",
        "            \n",
        "            if (w_end) >= width or (h_end) >= height:\n",
        "                continue\n",
        "            \n",
        "            input_image = image.clone().detach()\n",
        "            \n",
        "            #replacing all the pixel information in the image with occ_pixel(grey) in the specified location\n",
        "            input_image[:, :, w_start:w_end, h_start:h_end] = occ_pixel\n",
        "            \n",
        "            #run inference on modified image\n",
        "            #plt.imshow(input_image[0].permute(1,2,0))\n",
        "\n",
        "            output = model(input_image)\n",
        "            output = nn.functional.softmax(output, dim=1)\n",
        "            prob = output.tolist()[0][label]\n",
        "            \n",
        "            #setting the heatmap location to probability value\n",
        "            heatmap[h, w] = prob \n",
        "\n",
        "    return heatmap"
      ]
    },
    {
      "cell_type": "code",
      "execution_count": null,
      "metadata": {
        "id": "Ev_EAAIwbMbc"
      },
      "outputs": [],
      "source": [
        "misclassified_heatmap = []\n",
        "classified_heatmap = []"
      ]
    },
    {
      "cell_type": "code",
      "execution_count": null,
      "metadata": {
        "colab": {
          "background_save": true
        },
        "id": "nJqiUnUi305n",
        "outputId": "471b98de-3938-4788-9580-1404ec9d1025"
      },
      "outputs": [
        {
          "name": "stderr",
          "output_type": "stream",
          "text": [
            "100%|██████████| 30/30 [04:50<00:00,  9.69s/it]\n"
          ]
        }
      ],
      "source": [
        "# for index in tqdm(range(len(Misclassified_images))):    \n",
        "#   misclassified_heatmap.append(occlusion(model, Misclassified_images[index], getIndex(Misclassified_labels[index]), 32, 14))"
      ]
    },
    {
      "cell_type": "code",
      "execution_count": null,
      "metadata": {
        "colab": {
          "background_save": true,
          "base_uri": "https://localhost:8080/"
        },
        "id": "DfpX2YGPbsOk",
        "outputId": "6594eacb-0bb6-4fe9-b832-645169f3d6d0"
      },
      "outputs": [
        {
          "name": "stderr",
          "output_type": "stream",
          "text": [
            "100%|██████████| 30/30 [04:43<00:00,  9.46s/it]\n"
          ]
        }
      ],
      "source": [
        "for index in tqdm(range(len(classified_images))):    \n",
        "  classified_heatmap.append(occlusion(model, classified_images[index], getIndex(classified_labels[index]), 20, 10))"
      ]
    },
    {
      "cell_type": "code",
      "execution_count": null,
      "metadata": {
        "id": "hagyaremJGmd"
      },
      "outputs": [],
      "source": [
        "# fig, ax = plt.subplots(ncols=10, figsize=(35,20))\n",
        "\n",
        "# for i,index in enumerate(Misclassified_index):\n",
        "#   ax[i].imshow(imgs[index][0].permute(1,2,0))\n"
      ]
    },
    {
      "cell_type": "code",
      "execution_count": null,
      "metadata": {
        "id": "gvxA9WA6puay"
      },
      "outputs": [],
      "source": [
        "# fig, ax = plt.subplots(ncols=10, figsize=(35,20))\n",
        "\n",
        "# for index, map in enumerate(misclassified_heatmap):\n",
        "#   cax = ax[index].matshow(map)\n",
        "# fig.colorbar(cax)"
      ]
    },
    {
      "cell_type": "code",
      "execution_count": null,
      "metadata": {
        "id": "HjiLK38WeWor"
      },
      "outputs": [],
      "source": [
        "def example_plot(ax, img, label, fontsize=12):\n",
        "    ax.imshow(img)\n",
        "    ax.set_title(label)\n",
        "    ax.get_xaxis().set_ticks([])\n",
        "    ax.get_yaxis().set_ticks([])\n"
      ]
    },
    {
      "cell_type": "code",
      "execution_count": null,
      "metadata": {
        "colab": {
          "base_uri": "https://localhost:8080/",
          "height": 1000
        },
        "id": "dP9QN11dJvH6",
        "outputId": "b2603025-1732-4f61-9d32-943ddacbea1c"
      },
      "outputs": [
        {
          "name": "stderr",
          "output_type": "stream",
          "text": [
            "Clipping input data to the valid range for imshow with RGB data ([0..1] for floats or [0..255] for integers).\n",
            "Clipping input data to the valid range for imshow with RGB data ([0..1] for floats or [0..255] for integers).\n",
            "Clipping input data to the valid range for imshow with RGB data ([0..1] for floats or [0..255] for integers).\n",
            "Clipping input data to the valid range for imshow with RGB data ([0..1] for floats or [0..255] for integers).\n",
            "Clipping input data to the valid range for imshow with RGB data ([0..1] for floats or [0..255] for integers).\n",
            "Clipping input data to the valid range for imshow with RGB data ([0..1] for floats or [0..255] for integers).\n",
            "Clipping input data to the valid range for imshow with RGB data ([0..1] for floats or [0..255] for integers).\n",
            "Clipping input data to the valid range for imshow with RGB data ([0..1] for floats or [0..255] for integers).\n",
            "Clipping input data to the valid range for imshow with RGB data ([0..1] for floats or [0..255] for integers).\n",
            "Clipping input data to the valid range for imshow with RGB data ([0..1] for floats or [0..255] for integers).\n",
            "Clipping input data to the valid range for imshow with RGB data ([0..1] for floats or [0..255] for integers).\n",
            "Clipping input data to the valid range for imshow with RGB data ([0..1] for floats or [0..255] for integers).\n",
            "Clipping input data to the valid range for imshow with RGB data ([0..1] for floats or [0..255] for integers).\n",
            "Clipping input data to the valid range for imshow with RGB data ([0..1] for floats or [0..255] for integers).\n",
            "Clipping input data to the valid range for imshow with RGB data ([0..1] for floats or [0..255] for integers).\n",
            "Clipping input data to the valid range for imshow with RGB data ([0..1] for floats or [0..255] for integers).\n",
            "Clipping input data to the valid range for imshow with RGB data ([0..1] for floats or [0..255] for integers).\n",
            "Clipping input data to the valid range for imshow with RGB data ([0..1] for floats or [0..255] for integers).\n",
            "Clipping input data to the valid range for imshow with RGB data ([0..1] for floats or [0..255] for integers).\n",
            "Clipping input data to the valid range for imshow with RGB data ([0..1] for floats or [0..255] for integers).\n",
            "Clipping input data to the valid range for imshow with RGB data ([0..1] for floats or [0..255] for integers).\n",
            "Clipping input data to the valid range for imshow with RGB data ([0..1] for floats or [0..255] for integers).\n",
            "Clipping input data to the valid range for imshow with RGB data ([0..1] for floats or [0..255] for integers).\n",
            "Clipping input data to the valid range for imshow with RGB data ([0..1] for floats or [0..255] for integers).\n",
            "Clipping input data to the valid range for imshow with RGB data ([0..1] for floats or [0..255] for integers).\n",
            "Clipping input data to the valid range for imshow with RGB data ([0..1] for floats or [0..255] for integers).\n",
            "Clipping input data to the valid range for imshow with RGB data ([0..1] for floats or [0..255] for integers).\n",
            "Clipping input data to the valid range for imshow with RGB data ([0..1] for floats or [0..255] for integers).\n"
          ]
        },
        {
          "data": {
            "image/png": "[encoded data removed]",
            "text/plain": [
              "<Figure size 1800x1800 with 30 Axes>"
            ]
          },
          "metadata": {},
          "output_type": "display_data"
        }
      ],
      "source": [
        "fig, ax = plt.subplots(nrows=3, ncols=10, figsize=(25,25))\n",
        "classifiedIndexIterator = iter(classified_index)\n",
        "for row in range(3):\n",
        "  for column in range(10):\n",
        "    currentIndex=next(classifiedIndexIterator)\n",
        "    example_plot(ax[row,column], imgs[currentIndex][0].permute(1,2,0), getLabel(labels[currentIndex]))\n",
        "plt.subplots_adjust(top = 1.2, bottom=0.8, hspace=1.5, wspace=0.4)"
      ]
    },
    {
      "cell_type": "code",
      "execution_count": null,
      "metadata": {
        "colab": {
          "base_uri": "https://localhost:8080/",
          "height": 763
        },
        "id": "sBgT0kJIrTDa",
        "outputId": "b026ccf2-9ba5-46df-f3b0-248cd3b2a7cf"
      },
      "outputs": [
        {
          "data": {
            "image/png": "[encoded data removed]",
            "text/plain": [
              "<Figure size 1800x1800 with 31 Axes>"
            ]
          },
          "metadata": {},
          "output_type": "display_data"
        }
      ],
      "source": [
        "fig, ax = plt.subplots(nrows=3, ncols=10, figsize=(25,25))\n",
        "classifiedHeatMap = iter(classified_heatmap)\n",
        "classifiedIndexIterator = iter(classified_index)\n",
        "for row in range(3):\n",
        "  for col in range(10):\n",
        "    currentIndex=next(classifiedIndexIterator)\n",
        "    cax = ax[row, col].matshow(next(classifiedHeatMap))\n",
        "    ax[row,col].get_xaxis().set_ticks([])\n",
        "    ax[row,col].get_yaxis().set_ticks([])\n",
        "    ax[row,col].set_title(getLabel(labels[currentIndex]))\n",
        "\n",
        "fig.colorbar(cax)\n",
        "plt.subplots_adjust(top = 1.2, bottom=0.8, hspace=1.5, wspace=0.4)"
      ]
    },
    {
      "cell_type": "code",
      "execution_count": null,
      "metadata": {
        "id": "NIwJnBD3NDC1"
      },
      "outputs": [],
      "source": [
        "import copy"
      ]
    },
    {
      "cell_type": "code",
      "execution_count": null,
      "metadata": {
        "id": "rsBTIxj26m9D"
      },
      "outputs": [],
      "source": [
        "sortedPaths = {}\n",
        "epoch_paths1 = glob.glob(\"/content/drive/MyDrive/Logs/ML001/*\")\n",
        "epoch_paths2 = glob.glob(\"/content/drive/MyDrive/Logs/ML001*\")\n",
        "\n",
        "for epoch_path1, epoch_path2 in zip(epoch_paths1, epoch_paths2):\n",
        "    epochNumber = int(epoch_path1.split(\"/\")[-1].split(\"_\")[1].split(\".\")[0])\n",
        "    sortedPaths[epochNumber] = epoch_path2\n"
      ]
    },
    {
      "cell_type": "code",
      "execution_count": null,
      "metadata": {
        "id": "8SsGu5XUVquq"
      },
      "outputs": [],
      "source": [
        ""
      ]
    },
    {
      "cell_type": "code",
      "source": [
        ""
      ],
      "metadata": {
        "id": "UCxrN_iRNa8p"
      },
      "execution_count": null,
      "outputs": []
    },
    {
      "cell_type": "code",
      "execution_count": null,
      "metadata": {
        "id": "Afo-dO7qWUdJ",
        "colab": {
          "base_uri": "https://localhost:8080/"
        },
        "outputId": "9df7e7c5-8419-4766-d365-5dd786887884"
      },
      "outputs": [
        {
          "output_type": "execute_result",
          "data": {
            "text/plain": [
              "<All keys matched successfully>"
            ]
          },
          "metadata": {},
          "execution_count": 18
        }
      ],
      "source": [
        "model = SimpleNet()\n",
        "model.load_state_dict(torch.load(\"/content/drive/MyDrive/Logs/rerun/ML003/model_99.model\",  map_location=torch.device('cpu')))"
      ]
    },
    {
      "cell_type": "code",
      "source": [
        "model.to(\"cuda\")"
      ],
      "metadata": {
        "id": "bGM8iJ2FXGiG",
        "colab": {
          "base_uri": "https://localhost:8080/"
        },
        "outputId": "7f3bd5e9-7f8d-4e15-d777-3cbd0d05820c"
      },
      "execution_count": null,
      "outputs": [
        {
          "output_type": "execute_result",
          "data": {
            "text/plain": [
              "SimpleNet(\n",
              "  (unit1): Unit(\n",
              "    (conv): Conv2d(3, 32, kernel_size=(3, 3), stride=(1, 1), padding=(1, 1))\n",
              "    (relu): ReLU()\n",
              "  )\n",
              "  (pool1): MaxPool2d(kernel_size=2, stride=2, padding=0, dilation=1, ceil_mode=False)\n",
              "  (unit2): Unit(\n",
              "    (conv): Conv2d(32, 64, kernel_size=(3, 3), stride=(1, 1), padding=(1, 1))\n",
              "    (relu): ReLU()\n",
              "  )\n",
              "  (pool2): MaxPool2d(kernel_size=2, stride=2, padding=0, dilation=1, ceil_mode=False)\n",
              "  (unit3): Unit(\n",
              "    (conv): Conv2d(64, 128, kernel_size=(3, 3), stride=(1, 1), padding=(1, 1))\n",
              "    (relu): ReLU()\n",
              "  )\n",
              "  (pool3): MaxPool2d(kernel_size=2, stride=2, padding=0, dilation=1, ceil_mode=False)\n",
              "  (unit4): Unit(\n",
              "    (conv): Conv2d(128, 128, kernel_size=(3, 3), stride=(1, 1), padding=(1, 1))\n",
              "    (relu): ReLU()\n",
              "  )\n",
              "  (pool4): MaxPool2d(kernel_size=4, stride=4, padding=0, dilation=1, ceil_mode=False)\n",
              "  (net): Sequential(\n",
              "    (0): Unit(\n",
              "      (conv): Conv2d(3, 32, kernel_size=(3, 3), stride=(1, 1), padding=(1, 1))\n",
              "      (relu): ReLU()\n",
              "    )\n",
              "    (1): MaxPool2d(kernel_size=2, stride=2, padding=0, dilation=1, ceil_mode=False)\n",
              "    (2): Unit(\n",
              "      (conv): Conv2d(32, 64, kernel_size=(3, 3), stride=(1, 1), padding=(1, 1))\n",
              "      (relu): ReLU()\n",
              "    )\n",
              "    (3): MaxPool2d(kernel_size=2, stride=2, padding=0, dilation=1, ceil_mode=False)\n",
              "    (4): Unit(\n",
              "      (conv): Conv2d(64, 128, kernel_size=(3, 3), stride=(1, 1), padding=(1, 1))\n",
              "      (relu): ReLU()\n",
              "    )\n",
              "    (5): MaxPool2d(kernel_size=2, stride=2, padding=0, dilation=1, ceil_mode=False)\n",
              "    (6): Unit(\n",
              "      (conv): Conv2d(128, 128, kernel_size=(3, 3), stride=(1, 1), padding=(1, 1))\n",
              "      (relu): ReLU()\n",
              "    )\n",
              "    (7): MaxPool2d(kernel_size=4, stride=4, padding=0, dilation=1, ceil_mode=False)\n",
              "  )\n",
              "  (fc1): Linear(in_features=4608, out_features=128, bias=True)\n",
              "  (relu1): ReLU()\n",
              "  (fc2): Linear(in_features=128, out_features=9, bias=True)\n",
              ")"
            ]
          },
          "metadata": {},
          "execution_count": 19
        }
      ]
    },
    {
      "cell_type": "code",
      "execution_count": null,
      "metadata": {
        "id": "tE96ZpTTPuzz"
      },
      "outputs": [],
      "source": [
        "a = cv2.imread(\"/content/Nonagon_4c88dbde-aae1-11ec-a4a9-1e80c00a4030.png\")\n",
        "b = cv2.imread(\"/content/Nonagon_7ed5a666-aae2-11ec-a737-1e80c00a4030.png\")\n",
        "\n",
        "\n",
        "\n",
        "\n",
        "at = transformer(a)\n",
        "bt = transformer(b)\n",
        "\n",
        "#start_model.load_state_dict(torch.load(\"/content/drive/MyDrive/Logs/rerun/ML003/model_1.model\",  map_location=torch.device('cpu')))\n",
        "#end_model.load_state_dict(torch.load(\"/content/drive/MyDrive/Logs/rerun/ML003/model_99.model\",  map_location=torch.device('cpu')))"
      ]
    },
    {
      "cell_type": "code",
      "execution_count": null,
      "metadata": {
        "id": "9Q0Hue7Vb0un"
      },
      "outputs": [],
      "source": [
        "a_t= at[None,:].to(\"cuda\")\n",
        "b_t = bt[None,:].to(\"cuda\")\n",
        "\n",
        "a_occ = occlusion(model, a_t, 6, 20, 10)\n",
        "b_occ = occlusion(model, b_t, 6, 20, 10)"
      ]
    },
    {
      "cell_type": "code",
      "source": [
        "fig, (ax1, ax2, ax3, ax4) = plt.subplots(ncols=4, figsize=(15,5))\n",
        "ax1.imshow(a)\n",
        "ax2.matshow(a_occ)\n",
        "ax3.imshow(b)\n",
        "ax4.matshow(b_occ)\n",
        "\n",
        "\n",
        "\n",
        "ax1.get_xaxis().set_visible(False)\n",
        "ax1.get_yaxis().set_visible(False)\n",
        "ax1.set_title(\"Train Image\");\n",
        "ax2.get_xaxis().set_visible(False)\n",
        "ax2.get_yaxis().set_visible(False)\n",
        "ax2.set_title(\"Occlusion\")\n",
        "\n",
        "ax3.get_xaxis().set_visible(False)\n",
        "ax3.get_yaxis().set_visible(False)\n",
        "ax3.set_title(\"Test Image\")\n",
        "ax4.get_xaxis().set_visible(False)\n",
        "ax4.get_yaxis().set_visible(False)\n",
        "ax4.set_title(\"Occlusion\")"
      ],
      "metadata": {
        "colab": {
          "base_uri": "https://localhost:8080/",
          "height": 254
        },
        "id": "nQ58Nj8EYUSb",
        "outputId": "64ce928c-26a3-4f50-8f6c-4f432b31ef0b"
      },
      "execution_count": null,
      "outputs": [
        {
          "output_type": "execute_result",
          "data": {
            "text/plain": [
              "Text(0.5, 1.05, 'Occlusion')"
            ]
          },
          "metadata": {},
          "execution_count": 56
        },
        {
          "output_type": "display_data",
          "data": {
            "text/plain": [
              "<Figure size 1080x360 with 4 Axes>"
            ],
            "image/png": "[encoded data removed]"
          },
          "metadata": {
            "needs_background": "light"
          }
        }
      ]
    },
    {
      "cell_type": "code",
      "execution_count": null,
      "metadata": {
        "id": "6dZMGz1pOV7h"
      },
      "outputs": [],
      "source": [
        "iterator1 = iter(a_list)\n",
        "iterator2 = iter(b_list)\n",
        "iterator3 = iter(c_list)\n",
        "iterator4 = iter(d_list)\n",
        "\n",
        "iterator5 = iter(sortedPaths.keys())\n",
        "\n",
        "for i in range(139):\n",
        "    fig, (ax3, ax4, ax5, ax6) = plt.subplots(ncols=4, figsize=(15,5))\n",
        "    ax3.imshow(dd)\n",
        "    ax4.matshow(next(iterator4))\n",
        "    ax5.imshow(bb)\n",
        "    ax6.matshow(next(iterator2))\n",
        "\n",
        "    epochNumber = next(iterator5)\n",
        "\n",
        "    \n",
        "    ax3.get_xaxis().set_visible(False)\n",
        "    ax3.get_yaxis().set_visible(False)\n",
        "    ax3.set_title(\"Train Image\");\n",
        "    ax4.get_xaxis().set_visible(False)\n",
        "    ax4.get_yaxis().set_visible(False)\n",
        "    ax4.set_title(\"epoch:\"+ str(epochNumber))\n",
        "\n",
        "    ax5.get_xaxis().set_visible(False)\n",
        "    ax5.get_yaxis().set_visible(False)\n",
        "    ax5.set_title(\"Test Image\")\n",
        "    ax6.get_xaxis().set_visible(False)\n",
        "    ax6.get_yaxis().set_visible(False)\n",
        "    ax6.set_title(\"epoch:\"+ str(epochNumber))\n",
        "    \n",
        "\n",
        "    fig.savefig(\"/content/drive/MyDrive/OcclusionEpochs4/\"+str(epochNumber)+\".png\")\n",
        "    plt.close(fig)"
      ]
    },
    {
      "cell_type": "code",
      "source": [
        "sortedOccPaths = {}\n",
        "for path in glob.glob('/content/drive/MyDrive/OcclusionEpochs4/*.png'):\n",
        "    key = int(path.split(\"/\")[-1].split(\".\")[0])\n",
        "    sortedOccPaths[key] = path"
      ],
      "metadata": {
        "id": "84vniLwqYRmQ"
      },
      "execution_count": null,
      "outputs": []
    },
    {
      "cell_type": "code",
      "execution_count": null,
      "metadata": {
        "id": "EliUOc1GRwIF"
      },
      "outputs": [],
      "source": [
        "import cv2\n",
        "import numpy as np\n",
        "import glob\n",
        " \n",
        "img_array = []\n",
        "for i in range(289):\n",
        "  if i in sortedOccPaths.keys():\n",
        "    img = cv2.imread(sortedOccPaths[i])\n",
        "    height, width, layers = img.shape\n",
        "    size = (width,height)\n",
        "    img_array.append(img)\n",
        " \n",
        " \n",
        "out = cv2.VideoWriter('/content/sample_data/ScaleInvariance.mp4',cv2.VideoWriter_fourcc(*'DIVX'), 3, size)\n",
        " \n",
        "for i in range(len(img_array)):\n",
        "    out.write(img_array[i])\n",
        "out.release()"
      ]
    }
  ],
  "metadata": {
    "colab": {
      "collapsed_sections": [],
      "name": "OcclusionExperiment.ipynb",
      "provenance": []
    },
    "kernelspec": {
      "display_name": "Python 3",
      "name": "python3"
    },
    "language_info": {
      "name": "python"
    },
    "accelerator": "GPU"
  },
  "nbformat": 4,
  "nbformat_minor": 0
}